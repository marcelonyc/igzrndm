{
 "cells": [
  {
   "cell_type": "markdown",
   "metadata": {},
   "source": [
    "# Using MLRUN: A getting started example\n",
    "### Running the code in your notebook"
   ]
  },
  {
   "cell_type": "code",
   "execution_count": 1,
   "metadata": {},
   "outputs": [],
   "source": [
    "# nuclio: start-code"
   ]
  },
  {
   "cell_type": "code",
   "execution_count": 34,
   "metadata": {},
   "outputs": [],
   "source": [
    "from mlrun import mlconf,get_or_create_ctx, code_to_function, mount_v3io\n",
    "from mlrun.artifacts import TableArtifact"
   ]
  },
  {
   "cell_type": "markdown",
   "metadata": {},
   "source": [
    "## Change the IP to your PC's IP address"
   ]
  },
  {
   "cell_type": "code",
   "execution_count": 35,
   "metadata": {},
   "outputs": [],
   "source": [
    "mlconf.dbpath = 'http://mlrun-api:8080'"
   ]
  },
  {
   "cell_type": "code",
   "execution_count": 36,
   "metadata": {},
   "outputs": [
    {
     "name": "stdout",
     "output_type": "stream",
     "text": [
      "[mlrun] 2020-03-11 14:48:34,188 logging run results to: http://mlrun-api:8080\n"
     ]
    }
   ],
   "source": [
    "# Jobs running with mlrun have access to a context that provides\n",
    "# information about the execution of a job\n",
    "# This context is available for a single job or a step in pipeline\n",
    "mlrun_context = get_or_create_ctx('my_job')\n"
   ]
  },
  {
   "cell_type": "markdown",
   "metadata": {},
   "source": [
    "## Incorporating mlrun into your code to keep track of jobs"
   ]
  },
  {
   "cell_type": "code",
   "execution_count": 37,
   "metadata": {},
   "outputs": [],
   "source": [
    "def my_job(context):\n",
    "       \n",
    "    # Get parameters\n",
    "    # With the context in place, mlrun keeps track of any parameters\n",
    "    # you used to execute your job \n",
    "    param1 = mlrun_context.get_param('param1',4)\n",
    "    \n",
    "    # Save results to mlrun\n",
    "    mlrun_context.log_result(\"Calulated_Value\",param1*3)\n",
    "    \n",
    "    # Save artifacts from your run\n",
    "    # This functionality supports Plots, tables, models\n",
    "    # For this example we will save a table\n",
    "    mlrun_context.log_result('accuracy',0.8)\n",
    "    mlrun_context.log_artifact(TableArtifact('dataset', '1,2,3\\n4,5,6\\n',\n",
    "                                         header=['A', 'B', 'C'], target_path='dataset.csv'))"
   ]
  },
  {
   "cell_type": "code",
   "execution_count": 38,
   "metadata": {},
   "outputs": [],
   "source": [
    "# nuclio: end-code"
   ]
  },
  {
   "cell_type": "code",
   "execution_count": 41,
   "metadata": {},
   "outputs": [],
   "source": [
    "newfn = code_to_function('my_job',kind='job',filename=\"/User/mlrun_blog/containerazing.ipynb\").apply(mount_v3io())"
   ]
  },
  {
   "cell_type": "code",
   "execution_count": 42,
   "metadata": {},
   "outputs": [],
   "source": [
    "newfn.spec.image = \"mlrun/mlrun\"\n",
    "#newfn.build_config(image='test/img')"
   ]
  },
  {
   "cell_type": "code",
   "execution_count": 43,
   "metadata": {},
   "outputs": [
    {
     "name": "stdout",
     "output_type": "stream",
     "text": [
      "kind: job\n",
      "metadata:\n",
      "  name: my-job\n",
      "  tag: ''\n",
      "  project: ''\n",
      "spec:\n",
      "  command: ''\n",
      "  args: []\n",
      "  image: mlrun/mlrun\n",
      "  volumes:\n",
      "  - flexVolume:\n",
      "      driver: v3io/fuse\n",
      "      options:\n",
      "        accessKey: e4d2c610-4059-4ed3-9727-e45b073b3869\n",
      "        container: users\n",
      "        subPath: /marcelo\n",
      "    name: v3io\n",
      "  volume_mounts:\n",
      "  - mountPath: /User\n",
      "    name: v3io\n",
      "  env:\n",
      "  - name: V3IO_API\n",
      "    value: v3io-webapi.default-tenant.svc:8081\n",
      "  - name: V3IO_USERNAME\n",
      "    value: marcelo\n",
      "  - name: V3IO_ACCESS_KEY\n",
      "    value: e4d2c610-4059-4ed3-9727-e45b073b3869\n",
      "  description: ''\n",
      "  build:\n",
      "    functionSourceCode: IyBHZW5lcmF0ZWQgYnkgbnVjbGlvLmV4cG9ydC5OdWNsaW9FeHBvcnRlciBvbiAyMDIwLTAzLTExIDE0OjQ5Cgpmcm9tIG1scnVuIGltcG9ydCBtbGNvbmYsZ2V0X29yX2NyZWF0ZV9jdHgsIGNvZGVfdG9fZnVuY3Rpb24sIG1vdW50X3YzaW8KZnJvbSBtbHJ1bi5hcnRpZmFjdHMgaW1wb3J0IFRhYmxlQXJ0aWZhY3QKCm1sY29uZi5kYnBhdGggPSAnaHR0cDovL21scnVuLWFwaTo4MDgwJwoKbWxydW5fY29udGV4dCA9IGdldF9vcl9jcmVhdGVfY3R4KCdteV9qb2InKQoKZGVmIG15X2pvYihjb250ZXh0KToKICAgICAgIAogICAgcGFyYW0xID0gbWxydW5fY29udGV4dC5nZXRfcGFyYW0oJ3BhcmFtMScsNCkKICAgIAogICAgbWxydW5fY29udGV4dC5sb2dfcmVzdWx0KCJDYWx1bGF0ZWRfVmFsdWUiLHBhcmFtMSozKQogICAgCiAgICBtbHJ1bl9jb250ZXh0LmxvZ19yZXN1bHQoJ2FjY3VyYWN5JywwLjgpCiAgICBtbHJ1bl9jb250ZXh0LmxvZ19hcnRpZmFjdChUYWJsZUFydGlmYWN0KCdkYXRhc2V0JywgJzEsMiwzXG40LDUsNlxuJywKICAgICAgICAgICAgICAgICAgICAgICAgICAgICAgICAgICAgICAgICBoZWFkZXI9WydBJywgJ0InLCAnQyddLCB0YXJnZXRfcGF0aD0nZGF0YXNldC5jc3YnKSkKCg==\n",
      "    commands: []\n",
      "    code_origin: https://github.com/marcelonyc/mlrun_blog#f7600f3ec73cf8e9fb43bebe0800e3e159fc30cb:/User/mlrun_blog/containerazing.ipynb\n",
      "\n"
     ]
    }
   ],
   "source": [
    "print(newfn.to_yaml())"
   ]
  },
  {
   "cell_type": "code",
   "execution_count": 44,
   "metadata": {},
   "outputs": [
    {
     "name": "stdout",
     "output_type": "stream",
     "text": [
      "[mlrun] 2020-03-11 14:49:13,237 starting run my-job-my_job uid=0777242197914fdf9a6125b22e688d5c  -> http://mlrun-api:8080\n",
      "[mlrun] 2020-03-11 14:49:13,432 Job is running in the background, pod: my-job-my-job-8czsc\n",
      "[mlrun] 2020-03-11 14:49:18,892 logging run results to: http://mlrun-api:8080\n",
      "[mlrun] 2020-03-11 14:49:19,167 log artifact dataset at v3io:///bigdata/mlrund/db/dataset, size: 12, db: Y\n",
      "\n",
      "[mlrun] 2020-03-11 14:49:19,218 run executed, status=completed\n",
      "final state: succeeded\n"
     ]
    },
    {
     "name": "stderr",
     "output_type": "stream",
     "text": [
      "/User/.pythonlibs/lib/python3.6/site-packages/mlrun/render.py:337: FutureWarning: Passing a negative integer is deprecated in version 1.0 and will not be supported in future version. Instead, use None to not limit the column width.\n",
      "  pd.set_option('display.max_colwidth', -1)\n"
     ]
    },
    {
     "data": {
      "text/html": [
       "<style> \n",
       ".dictlist {\n",
       "  background-color: #b3edff; \n",
       "  text-align: center; \n",
       "  margin: 4px; \n",
       "  border-radius: 3px; padding: 0px 3px 1px 3px; display: inline-block;}\n",
       ".artifact {\n",
       "  cursor: pointer; \n",
       "  background-color: #ffe6cc; \n",
       "  text-align: left; \n",
       "  margin: 4px; border-radius: 3px; padding: 0px 3px 1px 3px; display: inline-block;\n",
       "}\n",
       "div.block.hidden {\n",
       "  display: none;\n",
       "}\n",
       ".clickable {\n",
       "  cursor: pointer;\n",
       "}\n",
       ".ellipsis {\n",
       "  display: inline-block;\n",
       "  max-width: 60px;\n",
       "  white-space: nowrap;\n",
       "  overflow: hidden;\n",
       "  text-overflow: ellipsis;\n",
       "}\n",
       ".master-wrapper {\n",
       "  display: flex;\n",
       "  flex-flow: row nowrap;\n",
       "  justify-content: flex-start;\n",
       "  align-items: stretch;\n",
       "}\n",
       ".master-tbl {\n",
       "  flex: 3\n",
       "}\n",
       ".master-wrapper > div {\n",
       "  margin: 4px;\n",
       "  padding: 10px;\n",
       "}\n",
       "iframe.fileview {\n",
       "  border: 0 none;\n",
       "  height: 100%;\n",
       "  width: 100%;\n",
       "  white-space: pre-wrap;\n",
       "}\n",
       ".pane-header-title {\n",
       "  width: 80%;\n",
       "  font-weight: 500;\n",
       "}\n",
       ".pane-header {\n",
       "  line-height: 1;\n",
       "  background-color: #ffe6cc;\n",
       "  padding: 3px;\n",
       "}\n",
       ".pane-header .close {\n",
       "  font-size: 20px;\n",
       "  font-weight: 700;\n",
       "  float: right;\n",
       "  margin-top: -5px;\n",
       "}\n",
       ".master-wrapper .right-pane {\n",
       "  border: 1px inset silver;\n",
       "  width: 40%;\n",
       "  min-height: 300px;\n",
       "  flex: 3\n",
       "  min-width: 500px;\n",
       "}\n",
       ".master-wrapper * {\n",
       "  box-sizing: border-box;\n",
       "}\n",
       "</style><script>\n",
       "function copyToClipboard(fld) {\n",
       "    if (document.queryCommandSupported && document.queryCommandSupported('copy')) {\n",
       "        var textarea = document.createElement('textarea');\n",
       "        textarea.textContent = fld.innerHTML;\n",
       "        textarea.style.position = 'fixed';\n",
       "        document.body.appendChild(textarea);\n",
       "        textarea.select();\n",
       "\n",
       "        try {\n",
       "            return document.execCommand('copy'); // Security exception may be thrown by some browsers.\n",
       "        } catch (ex) {\n",
       "\n",
       "        } finally {\n",
       "            document.body.removeChild(textarea);\n",
       "        }\n",
       "    }\n",
       "}\n",
       "function expandPanel(el) {\n",
       "  const panelName = \"#\" + el.getAttribute('paneName');\n",
       "  console.log(el.title);\n",
       "\n",
       "  document.querySelector(panelName + \"-title\").innerHTML = el.title\n",
       "  iframe = document.querySelector(panelName + \"-body\");\n",
       "  \n",
       "  const tblcss = `<style> body { font-family: Arial, Helvetica, sans-serif;}\n",
       "    #csv { margin-bottom: 15px; }\n",
       "    #csv table { border-collapse: collapse;}\n",
       "    #csv table td { padding: 4px 8px; border: 1px solid silver;} </style>`;\n",
       "\n",
       "  function csvToHtmlTable(str) {\n",
       "    return '<div id=\"csv\"><table><tr><td>' +  str.replace(/[\\n\\r]+$/g, '').replace(/[\\n\\r]+/g, '</td></tr><tr><td>')\n",
       "      .replace(/,/g, '</td><td>') + '</td></tr></table></div>';\n",
       "  }\n",
       "  \n",
       "  function reqListener () {\n",
       "    if (el.title.endsWith(\".csv\")) {\n",
       "      iframe.setAttribute(\"srcdoc\", tblcss + csvToHtmlTable(this.responseText));\n",
       "    } else {\n",
       "      iframe.setAttribute(\"srcdoc\", this.responseText);\n",
       "    }  \n",
       "    console.log(this.responseText);\n",
       "  }\n",
       "\n",
       "  const oReq = new XMLHttpRequest();\n",
       "  oReq.addEventListener(\"load\", reqListener);\n",
       "  oReq.open(\"GET\", el.title);\n",
       "  oReq.send();\n",
       "  \n",
       "  \n",
       "  //iframe.src = el.title;\n",
       "  const resultPane = document.querySelector(panelName + \"-pane\");\n",
       "  if (resultPane.classList.contains(\"hidden\")) {\n",
       "    resultPane.classList.remove(\"hidden\");\n",
       "  }\n",
       "}\n",
       "function closePanel(el) {\n",
       "  const panelName = \"#\" + el.getAttribute('paneName')\n",
       "  const resultPane = document.querySelector(panelName + \"-pane\");\n",
       "  if (!resultPane.classList.contains(\"hidden\")) {\n",
       "    resultPane.classList.add(\"hidden\");\n",
       "  }\n",
       "}\n",
       "\n",
       "</script>\n",
       "<div class=\"master-wrapper\">\n",
       "  <div class=\"block master-tbl\"><div>\n",
       "<style scoped>\n",
       "    .dataframe tbody tr th:only-of-type {\n",
       "        vertical-align: middle;\n",
       "    }\n",
       "\n",
       "    .dataframe tbody tr th {\n",
       "        vertical-align: top;\n",
       "    }\n",
       "\n",
       "    .dataframe thead th {\n",
       "        text-align: right;\n",
       "    }\n",
       "</style>\n",
       "<table border=\"1\" class=\"dataframe\">\n",
       "  <thead>\n",
       "    <tr style=\"text-align: right;\">\n",
       "      <th>uid</th>\n",
       "      <th>iter</th>\n",
       "      <th>start</th>\n",
       "      <th>state</th>\n",
       "      <th>name</th>\n",
       "      <th>labels</th>\n",
       "      <th>inputs</th>\n",
       "      <th>parameters</th>\n",
       "      <th>results</th>\n",
       "      <th>artifacts</th>\n",
       "    </tr>\n",
       "  </thead>\n",
       "  <tbody>\n",
       "    <tr>\n",
       "      <td><div title=\"0777242197914fdf9a6125b22e688d5c\">...688d5c</div></td>\n",
       "      <td>0</td>\n",
       "      <td>Mar 11 14:49:18</td>\n",
       "      <td>completed</td>\n",
       "      <td>my-job-my_job</td>\n",
       "      <td><div class=\"dictlist\">host=my-job-my-job-8czsc</div><div class=\"dictlist\">kind=job</div><div class=\"dictlist\">owner=admin</div></td>\n",
       "      <td></td>\n",
       "      <td><div class=\"dictlist\">param1=5</div></td>\n",
       "      <td></td>\n",
       "      <td></td>\n",
       "    </tr>\n",
       "  </tbody>\n",
       "</table>\n",
       "</div></div>\n",
       "  <div id=\"result09c949d0-pane\" class=\"right-pane block hidden\">\n",
       "    <div class=\"pane-header\">\n",
       "      <span id=\"result09c949d0-title\" class=\"pane-header-title\">Title</span>\n",
       "      <span onclick=\"closePanel(this)\" paneName=\"result09c949d0\" class=\"close clickable\">&times;</span>\n",
       "    </div>\n",
       "    <iframe class=\"fileview\" id=\"result09c949d0-body\"></iframe>\n",
       "  </div>\n",
       "</div>\n"
      ],
      "text/plain": [
       "<IPython.core.display.HTML object>"
      ]
     },
     "metadata": {},
     "output_type": "display_data"
    },
    {
     "name": "stdout",
     "output_type": "stream",
     "text": [
      "to track results use .show() or .logs() or in CLI: \n",
      "!mlrun get run 0777242197914fdf9a6125b22e688d5c  , !mlrun logs 0777242197914fdf9a6125b22e688d5c \n",
      "[mlrun] 2020-03-11 14:49:22,864 run executed, status=completed\n"
     ]
    }
   ],
   "source": [
    "train_run = newfn.run(handler=\"my_job\",out_path=\"v3io:///bigdata/mlrund/db\",params={'param1': 5})"
   ]
  },
  {
   "cell_type": "code",
   "execution_count": null,
   "metadata": {},
   "outputs": [],
   "source": []
  }
 ],
 "metadata": {
  "kernelspec": {
   "display_name": "Python 3",
   "language": "python",
   "name": "python3"
  },
  "language_info": {
   "codemirror_mode": {
    "name": "ipython",
    "version": 3
   },
   "file_extension": ".py",
   "mimetype": "text/x-python",
   "name": "python",
   "nbconvert_exporter": "python",
   "pygments_lexer": "ipython3",
   "version": "3.6.8"
  }
 },
 "nbformat": 4,
 "nbformat_minor": 4
}
